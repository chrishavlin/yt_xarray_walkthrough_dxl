{
 "cells": [
  {
   "cell_type": "markdown",
   "id": "84580cb1-1180-495b-803d-1aace36667df",
   "metadata": {
    "slideshow": {
     "slide_type": "slide"
    },
    "tags": []
   },
   "source": [
    "## yt_xarray\n",
    "\n",
    "linking yt & xarray\n",
    "\n",
    "* https://github.com/data-exp-lab/yt_xarray/\n",
    "* https://yt-xarray.readthedocs.io/en/latest/\n",
    "\n",
    "this presentation: https://github.com/chrishavlin/yt_xarray_walkthrough_dxl \n",
    "built with: https://github.com/deathbeds/jupyterlab-deck"
   ]
  },
  {
   "cell_type": "markdown",
   "id": "c45fcf0e-f824-4a10-85ae-67278d5bd5cb",
   "metadata": {
    "slideshow": {
     "slide_type": "slide"
    },
    "tags": []
   },
   "source": [
    "## xarray"
   ]
  },
  {
   "cell_type": "markdown",
   "id": "7ee20c46-fc2c-4b1e-ab85-8e552979ba5c",
   "metadata": {
    "slideshow": {
     "slide_type": "fragment"
    },
    "tags": []
   },
   "source": [
    "Multidimensional array IO:"
   ]
  },
  {
   "cell_type": "markdown",
   "id": "b53170d8-69f9-4508-80a2-1a665308d712",
   "metadata": {
    "slideshow": {
     "slide_type": "fragment"
    },
    "tags": []
   },
   "source": [
    "* self-describing data formats (netcdf, ...)"
   ]
  },
  {
   "cell_type": "markdown",
   "id": "3cc41b6c-05bd-4960-a1d8-38cf94a20e7b",
   "metadata": {
    "slideshow": {
     "slide_type": "fragment"
    },
    "tags": []
   },
   "source": [
    "* arbitrary dimension names"
   ]
  },
  {
   "cell_type": "markdown",
   "id": "a4baf146-e138-4133-9036-63b98e11b117",
   "metadata": {
    "slideshow": {
     "slide_type": "fragment"
    },
    "tags": []
   },
   "source": [
    "* distributed support (chunks to files): \n",
    "    * dask arrays \n",
    "    * zarr arrays"
   ]
  },
  {
   "cell_type": "markdown",
   "id": "c30957ef-2fca-47db-8d35-c78fd539397e",
   "metadata": {
    "slideshow": {
     "slide_type": "slide"
    },
    "tags": []
   },
   "source": [
    "Load in a [GEOS](https://gmao.gsfc.nasa.gov/GEOS_systems/) dataset (~2 GB, NASA Global Modeling and Assimilation Office):"
   ]
  },
  {
   "cell_type": "code",
   "execution_count": null,
   "id": "608ac5ea-77fd-496f-8d16-e01c5f99013f",
   "metadata": {
    "slideshow": {
     "slide_type": "fragment"
    },
    "tags": []
   },
   "outputs": [],
   "source": [
    "import xarray as xr \n",
    "import os \n",
    "\n",
    "fname_geos = os.path.expanduser(\"~/hdd/data/yt_data/yt_sample_sets/geos/GEOS.fp.asm.inst3_3d_aer_Nv.20180822_0900.V01.nc4\")\n",
    "ds = xr.open_dataset(fname_geos)\n",
    "ds"
   ]
  },
  {
   "cell_type": "code",
   "execution_count": null,
   "id": "b54b70d4-8f3f-4018-b4ce-93fbaa5567dd",
   "metadata": {
    "slideshow": {
     "slide_type": "fragment"
    },
    "tags": []
   },
   "outputs": [],
   "source": []
  },
  {
   "cell_type": "markdown",
   "id": "4ca527f5-70c3-49dd-984c-d5cff32f3732",
   "metadata": {
    "slideshow": {
     "slide_type": "slide"
    },
    "tags": []
   },
   "source": [
    "data variable access:"
   ]
  },
  {
   "cell_type": "code",
   "execution_count": null,
   "id": "a22f290c-3f11-4ffe-ad8c-39750a5655e2",
   "metadata": {
    "slideshow": {
     "slide_type": "fragment"
    },
    "tags": []
   },
   "outputs": [],
   "source": [
    "ds.data_vars[\"AIRDENS\"]"
   ]
  },
  {
   "cell_type": "markdown",
   "id": "b3b70461-34fe-4aec-b1e2-289664a9c88f",
   "metadata": {
    "slideshow": {
     "slide_type": "fragment"
    },
    "tags": []
   },
   "source": [
    "extract ordered dimension names:"
   ]
  },
  {
   "cell_type": "code",
   "execution_count": null,
   "id": "6fb1e993-e1f8-44a8-8c8c-8a9b26763fec",
   "metadata": {
    "slideshow": {
     "slide_type": "fragment"
    },
    "tags": []
   },
   "outputs": [],
   "source": [
    "ds.AIRDENS.dims"
   ]
  },
  {
   "cell_type": "code",
   "execution_count": null,
   "id": "56542abb-8fbd-467f-a7f8-a74a99361a5b",
   "metadata": {
    "slideshow": {
     "slide_type": "fragment"
    },
    "tags": []
   },
   "outputs": [],
   "source": []
  },
  {
   "cell_type": "markdown",
   "id": "992bb489-60d0-49b4-86b4-6e1947969a0b",
   "metadata": {
    "slideshow": {
     "slide_type": "slide"
    },
    "tags": []
   },
   "source": [
    "## Data selection with xarray "
   ]
  },
  {
   "cell_type": "markdown",
   "id": "01945e40-25cd-4c70-9d51-b1ae690d9a26",
   "metadata": {
    "slideshow": {
     "slide_type": "slide"
    },
    "tags": []
   },
   "source": [
    "### np-style array access and slicing"
   ]
  },
  {
   "cell_type": "code",
   "execution_count": null,
   "id": "bd286a19-7f58-4112-bcf5-b3101ba07b66",
   "metadata": {
    "slideshow": {
     "slide_type": "fragment"
    },
    "tags": []
   },
   "outputs": [],
   "source": [
    "ds.AIRDENS[0, 0, :, :]"
   ]
  },
  {
   "cell_type": "markdown",
   "id": "9804ea18-ae84-4926-9c1b-eee9461832ec",
   "metadata": {
    "slideshow": {
     "slide_type": "fragment"
    },
    "tags": []
   },
   "source": [
    "extracting raw np arrays:"
   ]
  },
  {
   "cell_type": "code",
   "execution_count": null,
   "id": "933a60fe-0658-429d-b31e-30723f12d326",
   "metadata": {
    "slideshow": {
     "slide_type": "fragment"
    },
    "tags": []
   },
   "outputs": [],
   "source": [
    "ds.AIRDENS[0,0,:,:].values"
   ]
  },
  {
   "cell_type": "markdown",
   "id": "c5e9dfa1-e4e2-46d4-824f-07ec62b77f83",
   "metadata": {
    "slideshow": {
     "slide_type": "fragment"
    },
    "tags": []
   },
   "source": [
    "need to remember axis ordering!"
   ]
  },
  {
   "cell_type": "code",
   "execution_count": null,
   "id": "ef120d07-5f15-40cb-835a-0f309fd4685c",
   "metadata": {
    "slideshow": {
     "slide_type": "fragment"
    },
    "tags": []
   },
   "outputs": [],
   "source": []
  },
  {
   "cell_type": "markdown",
   "id": "3985d3f2-54bd-419e-bb4c-89c92cb19562",
   "metadata": {
    "slideshow": {
     "slide_type": "slide"
    },
    "tags": []
   },
   "source": [
    "### selection by coordinate **name**\n",
    "\n",
    "by index (`isel`):"
   ]
  },
  {
   "cell_type": "code",
   "execution_count": null,
   "id": "e6f5f2a6-23db-4c1d-8994-58b4b8a868b5",
   "metadata": {
    "slideshow": {
     "slide_type": "fragment"
    },
    "tags": []
   },
   "outputs": [],
   "source": [
    "ds.AIRDENS.isel(time=0, lev=1, lat=4, lon=3)"
   ]
  },
  {
   "cell_type": "markdown",
   "id": "f8a09a5c-550b-4d40-a824-3a81369caa76",
   "metadata": {
    "slideshow": {
     "slide_type": "fragment"
    },
    "tags": []
   },
   "source": [
    "by **exact** value (`sel`):"
   ]
  },
  {
   "cell_type": "code",
   "execution_count": null,
   "id": "625fea50-6793-4404-a047-c8c3ff7fe34d",
   "metadata": {
    "slideshow": {
     "slide_type": "fragment"
    },
    "tags": []
   },
   "outputs": [],
   "source": [
    "ds.AIRDENS.sel(lev=2.0, lat=-89.0)"
   ]
  },
  {
   "cell_type": "markdown",
   "id": "22361ea7-d297-43dd-960c-c3275687a5b5",
   "metadata": {
    "slideshow": {
     "slide_type": "fragment"
    },
    "tags": []
   },
   "source": [
    "with some fuzziness: "
   ]
  },
  {
   "cell_type": "code",
   "execution_count": null,
   "id": "500049fc-b28c-493e-bca4-41d20ac5b327",
   "metadata": {
    "slideshow": {
     "slide_type": "fragment"
    },
    "tags": []
   },
   "outputs": [],
   "source": [
    "ds.AIRDENS.sel(lev=2.0, lat=-89.013, method=\"nearest\")"
   ]
  },
  {
   "cell_type": "markdown",
   "id": "0fd53f27-93ac-467a-afe6-4c86989f71bb",
   "metadata": {
    "slideshow": {
     "slide_type": "fragment"
    },
    "tags": []
   },
   "source": [
    "finally, with dictionary:"
   ]
  },
  {
   "cell_type": "code",
   "execution_count": null,
   "id": "853dfb2b-cfbf-4930-be41-db23f023c2a4",
   "metadata": {
    "slideshow": {
     "slide_type": "fragment"
    },
    "tags": []
   },
   "outputs": [],
   "source": [
    "ds.AIRDENS.sel({\"lev\":2.0, \"lat\":-89.0})  # important for yt_xarray!"
   ]
  },
  {
   "cell_type": "code",
   "execution_count": null,
   "id": "e7bb938b-da19-491b-b02a-95dd17b2f628",
   "metadata": {
    "slideshow": {
     "slide_type": "fragment"
    },
    "tags": []
   },
   "outputs": [],
   "source": []
  },
  {
   "cell_type": "markdown",
   "id": "8999c82a-b768-43a7-a402-93d3cf92e9b8",
   "metadata": {
    "slideshow": {
     "slide_type": "slide"
    },
    "tags": []
   },
   "source": [
    "## xarray & dask "
   ]
  },
  {
   "cell_type": "code",
   "execution_count": null,
   "id": "47d239c5-e82e-49d7-b9ea-047fa473a5c1",
   "metadata": {
    "slideshow": {
     "slide_type": "fragment"
    },
    "tags": []
   },
   "outputs": [],
   "source": [
    "ds.close()\n",
    "del ds"
   ]
  },
  {
   "cell_type": "markdown",
   "id": "9bfd72a4-0f6f-4be2-8476-84e9dd5bfc51",
   "metadata": {},
   "source": [
    "Start dask client"
   ]
  },
  {
   "cell_type": "code",
   "execution_count": null,
   "id": "9496bfcd-67d4-4496-beaa-0fd7b71a036c",
   "metadata": {
    "slideshow": {
     "slide_type": "slide"
    },
    "tags": []
   },
   "outputs": [],
   "source": [
    "from dask.distributed import Client\n",
    "c = Client(n_workers=os.cpu_count()-2, threads_per_worker=1)"
   ]
  },
  {
   "cell_type": "markdown",
   "id": "c6073ba1-90ac-4e85-8080-5d8a6b37071b",
   "metadata": {
    "slideshow": {
     "slide_type": "fragment"
    },
    "tags": []
   },
   "source": [
    "Test data set ([generated from here](https://github.com/chrishavlin/yt-xarray-dask-sandbox/blob/main/example.ipynb)):\n",
    "* random field data \n",
    "* 1000 chunks\n",
    "* 1 chunk = 1 .nc file"
   ]
  },
  {
   "cell_type": "code",
   "execution_count": null,
   "id": "94ca451c-3e4c-4f80-825f-9bb0ead9582b",
   "metadata": {},
   "outputs": [],
   "source": []
  },
  {
   "cell_type": "code",
   "execution_count": null,
   "id": "22d3a3a0-9e17-4175-b2b7-9d054e6bb0ff",
   "metadata": {
    "slideshow": {
     "slide_type": "fragment"
    },
    "tags": []
   },
   "outputs": [],
   "source": [
    "data_dir = os.path.expanduser(\"~/hdd/data/yt_data/yt_sample_sets/yt_xarray_test_data/dask_mf/data\")\n",
    "dask_test_ds = os.path.join(data_dir, \"*.nc\")\n",
    "ds = xr.open_mfdataset(dask_test_ds)\n",
    "ds"
   ]
  },
  {
   "cell_type": "code",
   "execution_count": null,
   "id": "38981ebe-ee15-4c43-b8c6-ec4618c9cb99",
   "metadata": {
    "slideshow": {
     "slide_type": "fragment"
    },
    "tags": []
   },
   "outputs": [],
   "source": [
    "ds.temperature"
   ]
  },
  {
   "cell_type": "markdown",
   "id": "61c114c0-533b-46fa-b173-611de180efde",
   "metadata": {
    "slideshow": {
     "slide_type": "fragment"
    },
    "tags": []
   },
   "source": [
    "* **Coordinates** are in memory and over all chunks!\n",
    "* **Data variables** are dask arrays"
   ]
  },
  {
   "cell_type": "markdown",
   "id": "cb82444b-d227-4d85-a453-98f4a37b681f",
   "metadata": {},
   "source": [
    "Returning in-memory values:"
   ]
  },
  {
   "cell_type": "code",
   "execution_count": null,
   "id": "a650bac8-d3dc-4e8f-8539-78f8636194be",
   "metadata": {
    "slideshow": {
     "slide_type": "fragment"
    },
    "tags": []
   },
   "outputs": [],
   "source": [
    "ds.temperature.mean()"
   ]
  },
  {
   "cell_type": "code",
   "execution_count": null,
   "id": "be615a15-1b90-4a2f-84f3-8f45a3993583",
   "metadata": {
    "slideshow": {
     "slide_type": "fragment"
    },
    "tags": []
   },
   "outputs": [],
   "source": [
    "ds.temperature.mean().values  # equivalent to .compute()"
   ]
  },
  {
   "cell_type": "code",
   "execution_count": null,
   "id": "12ab7e9a-ead6-4b5f-86a4-58af8bdd012a",
   "metadata": {
    "slideshow": {
     "slide_type": "fragment"
    },
    "tags": []
   },
   "outputs": [],
   "source": [
    "ds.temperature.mean().load()  # to preserve xarray-ness"
   ]
  },
  {
   "cell_type": "code",
   "execution_count": null,
   "id": "cafb97c2-40fa-418b-93a8-a3eb00e89a5f",
   "metadata": {
    "slideshow": {
     "slide_type": "fragment"
    },
    "tags": []
   },
   "outputs": [],
   "source": []
  },
  {
   "cell_type": "markdown",
   "id": "ece80988-657d-4d08-ae47-9f82566f315f",
   "metadata": {
    "slideshow": {
     "slide_type": "slide"
    },
    "tags": []
   },
   "source": [
    "**selections are also delayed (important for yt_xarray!):**"
   ]
  },
  {
   "cell_type": "code",
   "execution_count": null,
   "id": "ae0b1864-74db-4fe9-8c87-6eeefe3b7108",
   "metadata": {
    "slideshow": {
     "slide_type": "fragment"
    },
    "tags": []
   },
   "outputs": [],
   "source": [
    "vals = ds.temperature.isel(z=range(10)).sel(x=1, y=2, method=\"nearest\")\n",
    "vals"
   ]
  },
  {
   "cell_type": "code",
   "execution_count": null,
   "id": "d874c868-0597-4290-bb1e-dc867a048acf",
   "metadata": {
    "slideshow": {
     "slide_type": "fragment"
    },
    "tags": []
   },
   "outputs": [],
   "source": [
    "vals.load()"
   ]
  },
  {
   "cell_type": "code",
   "execution_count": null,
   "id": "bb858185-8ed5-4e86-a6af-851ba30c845c",
   "metadata": {
    "slideshow": {
     "slide_type": "fragment"
    },
    "tags": []
   },
   "outputs": [],
   "source": []
  },
  {
   "cell_type": "markdown",
   "id": "5ec38552-6a90-4b91-9754-41ca25981848",
   "metadata": {
    "slideshow": {
     "slide_type": "slide"
    },
    "tags": []
   },
   "source": [
    "## what about yt?\n",
    "\n"
   ]
  },
  {
   "cell_type": "markdown",
   "id": "4146a0f6-08b4-4725-b14a-8a84a6373f0b",
   "metadata": {
    "slideshow": {
     "slide_type": "fragment"
    },
    "tags": []
   },
   "source": [
    "previously:\n",
    "\n",
    "1. load in arrays\n",
    "2. use yt generic data loader (`yt.load_uniform_grid(...)`)\n"
   ]
  },
  {
   "cell_type": "markdown",
   "id": "dc82e503-8326-48e0-818a-bfaa505b2d25",
   "metadata": {
    "slideshow": {
     "slide_type": "fragment"
    },
    "tags": []
   },
   "source": [
    "**yt_xarray** v0.1.1: yt datasets from xarray datasets"
   ]
  },
  {
   "cell_type": "markdown",
   "id": "a0d10bbe-b565-4003-9f49-e87ab5cc058a",
   "metadata": {
    "slideshow": {
     "slide_type": "fragment"
    },
    "tags": []
   },
   "source": [
    "automate (as much as possible) 1 & 2 !"
   ]
  },
  {
   "cell_type": "markdown",
   "id": "10b8c76e-58f8-4f8a-b39b-6406400eb915",
   "metadata": {
    "slideshow": {
     "slide_type": "slide"
    },
    "tags": []
   },
   "source": [
    "## **yt_xarray** usage overview\n",
    "\n",
    "yt_xarray provides a `yt` \"accessor object\":"
   ]
  },
  {
   "cell_type": "code",
   "execution_count": null,
   "id": "471cb9bd-f06d-4ca1-b5e2-2367c32d0811",
   "metadata": {},
   "outputs": [],
   "source": [
    "import yt_xarray"
   ]
  },
  {
   "cell_type": "code",
   "execution_count": null,
   "id": "4dab4c23-7e33-46ca-a1c2-df9b459952d1",
   "metadata": {},
   "outputs": [],
   "source": [
    "ds.yt"
   ]
  },
  {
   "cell_type": "code",
   "execution_count": null,
   "id": "154890f2-9f06-4627-b5e7-aa5c2543379b",
   "metadata": {},
   "outputs": [],
   "source": [
    "ds.yt."
   ]
  },
  {
   "cell_type": "markdown",
   "id": "9485c389-3637-4885-b015-866dae232561",
   "metadata": {},
   "source": [
    "### Loading all data (not always possible):"
   ]
  },
  {
   "cell_type": "code",
   "execution_count": null,
   "id": "699123dd-8540-4d18-835d-ea703f3cd992",
   "metadata": {},
   "outputs": [],
   "source": [
    "ds_yt = ds.yt.load_grid(length_unit=\"km\")"
   ]
  },
  {
   "cell_type": "code",
   "execution_count": null,
   "id": "b8390d56-17b1-4663-adc0-57ccba2b62cb",
   "metadata": {},
   "outputs": [],
   "source": [
    "ds_yt.field_list"
   ]
  },
  {
   "cell_type": "code",
   "execution_count": null,
   "id": "53c8c6e9-eb7d-4b12-b8be-6c5c33c36af4",
   "metadata": {},
   "outputs": [],
   "source": [
    "import yt\n",
    "yt.SlicePlot(ds_yt, \"x\", (\"stream\", \"gauss\"))"
   ]
  },
  {
   "cell_type": "code",
   "execution_count": null,
   "id": "9fc65938-f04c-43fa-b437-52253a3efa20",
   "metadata": {
    "slideshow": {
     "slide_type": "fragment"
    },
    "tags": []
   },
   "outputs": [],
   "source": []
  },
  {
   "cell_type": "markdown",
   "id": "8ef74d80-a269-4930-9752-6263e90e3ae4",
   "metadata": {
    "slideshow": {
     "slide_type": "slide"
    },
    "tags": []
   },
   "source": [
    "### not always so easy...\n",
    "\n",
    "[**wrf**](https://www.mmm.ucar.edu/models/wrf): \"weather research and forecasting model\" \n",
    "\n",
    "cf (Climate and Forecast) compliance of netcdf files: https://cfconventions.org/\n",
    "\n",
    "wrf is not..."
   ]
  },
  {
   "cell_type": "code",
   "execution_count": null,
   "id": "b0d28ead-4e9a-48cd-aaf4-b7bf77f048c2",
   "metadata": {},
   "outputs": [],
   "source": [
    "ds = yt_xarray.open_dataset('wrf/wrfout_d03_2016-06-01.nc')  # checks yt paths"
   ]
  },
  {
   "cell_type": "code",
   "execution_count": null,
   "id": "2de58fc6-a5c0-4fbd-abc2-84649be20ef9",
   "metadata": {},
   "outputs": [],
   "source": [
    "import xwrf  "
   ]
  },
  {
   "cell_type": "code",
   "execution_count": null,
   "id": "15407d5c-959b-46e0-bd5e-c75702592df2",
   "metadata": {},
   "outputs": [],
   "source": [
    "ds_x = ds.xwrf.postprocess() # make it cf-compliant-ish\n",
    "ds_x"
   ]
  },
  {
   "cell_type": "markdown",
   "id": "b0bd50a2-1b81-4594-bc87-7b031a126048",
   "metadata": {
    "slideshow": {
     "slide_type": "fragment"
    },
    "tags": []
   },
   "source": [
    "1. different dimensionality of fields (including time)\n",
    "2. yt has strict coordinate names (latitude, longitude, altitude), (x, y, z), (r, theta, phi), etc."
   ]
  },
  {
   "cell_type": "markdown",
   "id": "4a223a0d-f8b5-4295-a18e-121bf73c82c3",
   "metadata": {
    "slideshow": {
     "slide_type": "slide"
    },
    "tags": []
   },
   "source": [
    "### choose a subset of fields"
   ]
  },
  {
   "cell_type": "code",
   "execution_count": null,
   "id": "1775046e-69e2-4b0b-a2a0-e88233133dc0",
   "metadata": {},
   "outputs": [],
   "source": [
    "ds_x.yt.load_grid()\n",
    "# ds_yt = ds_x.yt.load_grid(\n",
    "#     fields=('geopotential', 'geopotential_height')\n",
    "# )"
   ]
  },
  {
   "cell_type": "markdown",
   "id": "1ba880eb-508c-4342-88b3-455aca661617",
   "metadata": {},
   "source": [
    "### choose a time to load"
   ]
  },
  {
   "cell_type": "code",
   "execution_count": null,
   "id": "832dc790-6e73-4d1c-81ff-4a9ccfa7eb1b",
   "metadata": {},
   "outputs": [],
   "source": [
    "ds_yt = ds_x.yt.load_grid(\n",
    "    fields=('geopotential', 'geopotential_height'),                      \n",
    "    sel_dict={'Time':0})"
   ]
  },
  {
   "cell_type": "code",
   "execution_count": null,
   "id": "7a9796ad-3126-4953-bbc7-907336802b79",
   "metadata": {
    "slideshow": {
     "slide_type": "fragment"
    },
    "tags": []
   },
   "outputs": [],
   "source": []
  },
  {
   "cell_type": "markdown",
   "id": "8e2df74f-517c-43d3-b000-162eccf92170",
   "metadata": {
    "slideshow": {
     "slide_type": "slide"
    },
    "tags": []
   },
   "source": [
    "### COORDINATE ALIASING"
   ]
  },
  {
   "cell_type": "code",
   "execution_count": null,
   "id": "7efbb675-83d9-478a-8ba4-ed90f8e2e22f",
   "metadata": {
    "slideshow": {
     "slide_type": "fragment"
    },
    "tags": []
   },
   "outputs": [],
   "source": [
    "yt_xarray.known_coord_aliases"
   ]
  },
  {
   "cell_type": "code",
   "execution_count": null,
   "id": "9da32596-b6f7-4477-a176-277ae418e641",
   "metadata": {
    "slideshow": {
     "slide_type": "fragment"
    },
    "tags": []
   },
   "outputs": [],
   "source": [
    "yt_xarray.known_coord_aliases[\"z_stag\"] = \"z\""
   ]
  },
  {
   "cell_type": "code",
   "execution_count": null,
   "id": "7ad9c08c-0018-4291-b1e9-0e285b4c9f12",
   "metadata": {
    "slideshow": {
     "slide_type": "fragment"
    },
    "tags": []
   },
   "outputs": [],
   "source": [
    "ds_yt = ds_x.yt.load_grid(fields=('geopotential', 'geopotential_height'),\n",
    "                          sel_dict={'Time':0},\n",
    "                          length_unit='m',\n",
    "                          use_callable=False)"
   ]
  },
  {
   "cell_type": "markdown",
   "id": "faee4b1b-9d32-448d-b4c2-c3ffefe9c0c6",
   "metadata": {
    "slideshow": {
     "slide_type": "fragment"
    },
    "tags": []
   },
   "source": [
    "separate problem with the 3d data (bug: interpolation going wrong)... so:"
   ]
  },
  {
   "cell_type": "code",
   "execution_count": null,
   "id": "c44312c4-dd50-464d-863a-5a5d3c3c8c5e",
   "metadata": {
    "slideshow": {
     "slide_type": "fragment"
    },
    "tags": []
   },
   "outputs": [],
   "source": [
    "ds_yt = ds_x.yt.load_grid(fields=('geopotential', 'geopotential_height'),\n",
    "                          sel_dict={'Time':0, 'z_stag':4},\n",
    "                          length_unit='m')   "
   ]
  },
  {
   "cell_type": "markdown",
   "id": "72c37347-da21-4fe2-8d3d-d748391a14bf",
   "metadata": {
    "slideshow": {
     "slide_type": "fragment"
    },
    "tags": []
   },
   "source": [
    "finally ... "
   ]
  },
  {
   "cell_type": "code",
   "execution_count": null,
   "id": "5f26a5a4-7367-441c-a7e1-9f44e150ba5d",
   "metadata": {
    "slideshow": {
     "slide_type": "slide"
    },
    "tags": []
   },
   "outputs": [],
   "source": [
    "slc = yt.SlicePlot(ds_yt, \"z\", (\"stream\", \"geopotential_height\"))\n",
    "slc.set_log(\"all\", False)"
   ]
  },
  {
   "cell_type": "markdown",
   "id": "5787ff17-198c-4834-a2f8-eb1e79b2d86c",
   "metadata": {
    "slideshow": {
     "slide_type": "fragment"
    },
    "tags": []
   },
   "source": [
    "**Note**: need to use yt coordinate names for yt functions"
   ]
  },
  {
   "cell_type": "markdown",
   "id": "912841af-ebb8-4cef-b885-3046fba13817",
   "metadata": {
    "slideshow": {
     "slide_type": "fragment"
    },
    "tags": []
   },
   "source": [
    "**What is [geopotential height](https://legacy.climate.ncsu.edu/images/climate/enso/geo_heights.php)?**: \n",
    "\n",
    "* cold air denser than warm air \n",
    "* pressure in the atmo from overlying air\n",
    "\n",
    "geopotential height = the altitude to get to a particular pressure\n"
   ]
  },
  {
   "cell_type": "markdown",
   "id": "1cf9c2c8-f578-48b8-af63-0568f8c18071",
   "metadata": {
    "slideshow": {
     "slide_type": "slide"
    },
    "tags": []
   },
   "source": [
    "### yt_xarray chunking\n",
    "\n",
    "create a test dataset with a dask array:"
   ]
  },
  {
   "cell_type": "code",
   "execution_count": null,
   "id": "b42c357b-796e-45be-a056-15cb14639713",
   "metadata": {
    "slideshow": {
     "slide_type": "fragment"
    },
    "tags": []
   },
   "outputs": [],
   "source": [
    "ds = xr.open_mfdataset(dask_test_ds)\n",
    "ds"
   ]
  },
  {
   "cell_type": "code",
   "execution_count": null,
   "id": "08c78681-0a7d-4bfb-b15b-ac863b2f6370",
   "metadata": {
    "slideshow": {
     "slide_type": "fragment"
    },
    "tags": []
   },
   "outputs": [],
   "source": [
    "import yt_xarray\n",
    "yt_ds = ds.yt.load_grid(fields=(\"gauss\",), length_unit='m', chunksizes=51)"
   ]
  },
  {
   "cell_type": "code",
   "execution_count": null,
   "id": "bb3fed26-42f6-45dc-a409-78fdb2ceb416",
   "metadata": {},
   "outputs": [],
   "source": [
    "# index"
   ]
  },
  {
   "cell_type": "code",
   "execution_count": null,
   "id": "0aa041bc-207a-482a-bf70-5b261fb76590",
   "metadata": {
    "slideshow": {
     "slide_type": "fragment"
    },
    "tags": []
   },
   "outputs": [],
   "source": [
    "import yt\n",
    "slc = yt.SlicePlot(yt_ds, \"z\", (\"stream\", \"gauss\"))\n",
    "slc.annotate_grids()\n",
    "slc.show()"
   ]
  },
  {
   "cell_type": "markdown",
   "id": "b99f624c-8f79-48f7-98fe-2fcac4ca3df3",
   "metadata": {
    "slideshow": {
     "slide_type": "fragment"
    },
    "tags": []
   },
   "source": [
    "**each yt grid = dask chunk = on disk .nc file**"
   ]
  },
  {
   "cell_type": "markdown",
   "id": "457d2c87-53e9-4fb3-a41e-734f6107865d",
   "metadata": {
    "slideshow": {
     "slide_type": "slide"
    },
    "tags": []
   },
   "source": [
    "but chunk alignemnt not gauranteed... "
   ]
  },
  {
   "cell_type": "code",
   "execution_count": null,
   "id": "9765a8b5-bac4-48ab-a0d0-88f134ce7d9f",
   "metadata": {
    "tags": []
   },
   "outputs": [],
   "source": [
    "import yt_xarray\n",
    "yt_ds = ds.yt.load_grid(fields=(\"gauss\",), length_unit='m', chunksizes=102)\n",
    "slc = yt.SlicePlot(yt_ds, \"z\", (\"stream\", \"gauss\"))\n",
    "slc.annotate_grids()\n",
    "slc.show()"
   ]
  },
  {
   "cell_type": "markdown",
   "id": "195fa631-2756-4882-914d-471a3ada1258",
   "metadata": {
    "slideshow": {
     "slide_type": "fragment"
    },
    "tags": []
   },
   "source": [
    "possible feature? \n",
    "\n",
    "but working to auto-align... \n",
    "\n",
    "([ChunkWalker prototype](https://github.com/chrishavlin/yt-xarray-dask-sandbox/blob/main/daxryt/chunk_inspector.py)), `._recursive_chonker` walks dask-xr chunks:\n"
   ]
  },
  {
   "cell_type": "code",
   "execution_count": null,
   "id": "86a3dfd5-d63d-4155-ab55-17635bf3e8a8",
   "metadata": {
    "slideshow": {
     "slide_type": "fragment"
    },
    "tags": []
   },
   "outputs": [],
   "source": [
    "ds.gauss.chunksizes"
   ]
  },
  {
   "cell_type": "markdown",
   "id": "a3af5c11-b5ff-4798-8300-6bb6c2dcdabf",
   "metadata": {
    "slideshow": {
     "slide_type": "fragment"
    },
    "tags": []
   },
   "source": [
    "only have the chunk sizes in each dimension, yt needs the physical left, right edges, potentially cell widths for each chunk."
   ]
  },
  {
   "cell_type": "code",
   "execution_count": null,
   "id": "03a8ec44-5606-46d5-b2cc-03f44b227b79",
   "metadata": {
    "slideshow": {
     "slide_type": "fragment"
    },
    "tags": []
   },
   "outputs": [],
   "source": []
  },
  {
   "cell_type": "markdown",
   "id": "2b5d03d4-46ab-41c3-a4f4-148a7027398f",
   "metadata": {
    "slideshow": {
     "slide_type": "slide"
    },
    "tags": []
   },
   "source": [
    "# yt_xarray code tour "
   ]
  },
  {
   "cell_type": "markdown",
   "id": "7653579c-862e-4480-8d5f-3af53a5f8602",
   "metadata": {
    "slideshow": {
     "slide_type": "fragment"
    },
    "tags": []
   },
   "source": [
    "loads data as yt Stream frontend via `load_amr_grids`:"
   ]
  },
  {
   "cell_type": "markdown",
   "id": "39fca74d-5bbe-43a0-ac79-c2a1b64ca52a",
   "metadata": {
    "slideshow": {
     "slide_type": "fragment"
    },
    "tags": []
   },
   "source": [
    "\n",
    "```python\n",
    "yt.load_amr_grids(\n",
    "        grid_data,  # the data OR FUNCTION for the grid(s)\n",
    "        data_shp,   # global grid shape, (Nx, Ny, Nz)\n",
    "        geometry=geom,  # e.g., ('cartesian', ('x', 'z', 'y'))\n",
    "        bbox=bbox,  # the bounding box\n",
    "        length_unit=length_unit,  \n",
    "        **kwargs,\n",
    "    )\n",
    "```    "
   ]
  },
  {
   "cell_type": "markdown",
   "id": "2c5f0f24-1b74-4742-ab02-3d995cc256dc",
   "metadata": {
    "slideshow": {
     "slide_type": "fragment"
    },
    "tags": []
   },
   "source": [
    "Form of `grid_data` depends on:\n",
    "\n",
    "* grid type (uniform, stretched)\n",
    "* memory management: delayed reads (`use_callable`) vs in memory\n",
    "* chunking"
   ]
  },
  {
   "cell_type": "markdown",
   "id": "78b01c83-5c52-4b1e-ba48-669dc42b0cf9",
   "metadata": {
    "slideshow": {
     "slide_type": "fragment"
    },
    "tags": []
   },
   "source": [
    "We'll look at:\n",
    "\n",
    "* `yt_xarray.accessor.accessor.YtAccessor` : the top level accessor object\n",
    "* `yt_xarray.accessor._xr_to_yt.Selection` : yt-xr translation, mapping of selections\n",
    "* `yt_xarray.accessor._readers._get_xarray_reader`: building a function to load the data when needed\n"
   ]
  },
  {
   "cell_type": "markdown",
   "id": "2f8349c8-3c79-43e3-8893-e34a23d226a9",
   "metadata": {},
   "source": []
  }
 ],
 "metadata": {
  "kernelspec": {
   "display_name": "Python 3 (ipykernel)",
   "language": "python",
   "name": "python3"
  },
  "language_info": {
   "codemirror_mode": {
    "name": "ipython",
    "version": 3
   },
   "file_extension": ".py",
   "mimetype": "text/x-python",
   "name": "python",
   "nbconvert_exporter": "python",
   "pygments_lexer": "ipython3",
   "version": "3.10.6"
  }
 },
 "nbformat": 4,
 "nbformat_minor": 5
}
